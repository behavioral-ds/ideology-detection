{
 "cells": [
  {
   "cell_type": "code",
   "execution_count": 25,
   "id": "6f53f7f8-85f1-4c3c-a1b1-b3cd742133d8",
   "metadata": {},
   "outputs": [],
   "source": [
    "from dotenv import load_dotenv\n",
    "import os\n",
    "import pandas as pd\n",
    "load_dotenv()\n",
    "base_dir = os.getenv('BASEDIR')\n",
    "from pathlib import Path\n",
    "import re\n",
    "import pickle as pk\n",
    "import numpy as np\n",
    "from sklearn.metrics import f1_score, roc_auc_score\n",
    "from lightgbm import LGBMClassifier"
   ]
  },
  {
   "cell_type": "code",
   "execution_count": 39,
   "id": "a0cd55a3-4dbc-4563-8242-b6971613b799",
   "metadata": {},
   "outputs": [],
   "source": [
    "datasets = ['qanda', 'ausvotes','socialsense','riot', 'parler']"
   ]
  },
  {
   "cell_type": "code",
   "execution_count": 24,
   "id": "157a0f18-c872-468a-9533-1bdd90bd65d6",
   "metadata": {},
   "outputs": [
    {
     "name": "stdout",
     "output_type": "stream",
     "text": [
      "[LightGBM] [Warning] min_data_in_leaf is set=500, min_child_samples=20 will be ignored. Current value: min_data_in_leaf=500\n",
      "[LightGBM] [Warning] min_data_in_leaf is set=500, min_child_samples=20 will be ignored. Current value: min_data_in_leaf=500\n",
      "[LightGBM] [Warning] min_data_in_leaf is set=500, min_child_samples=20 will be ignored. Current value: min_data_in_leaf=500\n",
      "[LightGBM] [Warning] min_data_in_leaf is set=500, min_child_samples=20 will be ignored. Current value: min_data_in_leaf=500\n",
      "[LightGBM] [Warning] min_data_in_leaf is set=500, min_child_samples=20 will be ignored. Current value: min_data_in_leaf=500\n",
      "[LightGBM] [Warning] min_data_in_leaf is set=500, min_child_samples=20 will be ignored. Current value: min_data_in_leaf=500\n",
      "[LightGBM] [Warning] min_data_in_leaf is set=500, min_child_samples=20 will be ignored. Current value: min_data_in_leaf=500\n",
      "[LightGBM] [Warning] min_data_in_leaf is set=500, min_child_samples=20 will be ignored. Current value: min_data_in_leaf=500\n",
      "[LightGBM] [Warning] min_data_in_leaf is set=500, min_child_samples=20 will be ignored. Current value: min_data_in_leaf=500\n",
      "[LightGBM] [Warning] min_data_in_leaf is set=500, min_child_samples=20 will be ignored. Current value: min_data_in_leaf=500\n"
     ]
    }
   ],
   "source": [
    "gt_fr_name = 'URLb_FR'\n",
    "for dataset in datasets:\n",
    "    feature='use'\n",
    "    granularity='_per_user'\n",
    "    gt='URL_LR'\n",
    "    data_path = os.path.join(base_dir,'data','01_raw_data',dataset, dataset+granularity+'.pk')\n",
    "    with open(data_path, 'rb') as rf:\n",
    "        data = pk.load(rf).reset_index(drop=False)\n",
    "        \n",
    "    def load_vector(fp):\n",
    "        with open(fp, 'rb') as rf:\n",
    "            vec = pk.load(rf)\n",
    "        return vec\n",
    "    \n",
    "    features = load_vector(os.path.join(base_dir,'data','03_processed',dataset,'features', dataset+'_'+'use'+'_'+granularity+'.pk'))\n",
    "    gt_stance = load_vector(os.path.join(base_dir,'data','03_processed',dataset,'ground_truth', dataset+'_URL_LR_'+granularity+'.pk'))\n",
    "    gt_fr = load_vector(os.path.join(base_dir,'data','03_processed',dataset,'ground_truth', dataset+'_'+gt_fr_name+'_'+granularity+'.pk'))    \n",
    "\n",
    "                        \n",
    "    et = LGBMClassifier(n_estimators=100, min_data_in_leaf=500,colsample_bytree=0.8, class_weight='balanced', n_jobs=-1)\n",
    "    mask_stance = gt_stance >=0\n",
    "    y_stance = gt_stance[mask_stance]\n",
    "    X_stance = features[mask_stance]\n",
    "    et.fit(X_stance,y_stance)\n",
    "    predicted_stance = et.predict(features)\n",
    "    \n",
    "    et = LGBMClassifier(n_estimators=100, min_data_in_leaf=500,colsample_bytree=0.8, class_weight='balanced', n_jobs=-1)\n",
    "    mask_fr = gt_fr >=0\n",
    "    y_fr = gt_fr[mask_fr]\n",
    "    X_fr = features[mask_fr]\n",
    "    et.fit(X_fr,y_fr)\n",
    "    predicted_fr = et.predict(features)\n",
    "                        \n",
    "    pred_stance = pd.Series([['N', 'L', 'R'][i] for i in predicted_stance]).values\n",
    "    \n",
    "    label = pred_stance\n",
    "    label[predicted_fr] = 'FR'\n",
    "    data['label'] = label\n",
    "    Path(os.path.join(base_dir,'data','04_results','labels')).mkdir( parents=True, exist_ok=True )\n",
    "    data[['uid','label']].to_csv(os.path.join(base_dir,'data','04_results','labels',dataset+'.csv'))"
   ]
  },
  {
   "cell_type": "code",
   "execution_count": null,
   "id": "7e47fe04-666a-4467-889c-8b4b5c5690c3",
   "metadata": {},
   "outputs": [],
   "source": []
  }
 ],
 "metadata": {
  "kernelspec": {
   "display_name": "rr",
   "language": "python",
   "name": "rr"
  },
  "language_info": {
   "codemirror_mode": {
    "name": "ipython",
    "version": 3
   },
   "file_extension": ".py",
   "mimetype": "text/x-python",
   "name": "python",
   "nbconvert_exporter": "python",
   "pygments_lexer": "ipython3",
   "version": "3.10.4"
  }
 },
 "nbformat": 4,
 "nbformat_minor": 5
}
