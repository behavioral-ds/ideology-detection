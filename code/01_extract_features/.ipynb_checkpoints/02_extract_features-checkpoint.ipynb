{
 "cells": [
  {
   "cell_type": "code",
   "execution_count": 4,
   "id": "d639e274",
   "metadata": {},
   "outputs": [],
   "source": [
    "from dotenv import load_dotenv\n",
    "import os\n",
    "import pandas as pd\n",
    "load_dotenv()\n",
    "import pickle as pk\n",
    "import numpy as np\n",
    "from pathlib import Path\n",
    "base_dir = os.getenv('BASEDIR')\n",
    "\n",
    "from tqdm import tqdm\n",
    "tqdm.pandas()"
   ]
  },
  {
   "cell_type": "code",
   "execution_count": 5,
   "id": "08de60a2",
   "metadata": {},
   "outputs": [],
   "source": [
    "import pandas as pd\n",
    "import os \n",
    "import re\n",
    "import numpy as np\n",
    "from sklearn.feature_extraction.text import TfidfVectorizer\n",
    "from tqdm import tqdm\n",
    "import tensorflow as tf\n",
    "import tensorflow_hub as hub"
   ]
  },
  {
   "cell_type": "markdown",
   "id": "4598f9fb",
   "metadata": {},
   "source": [
    "### Generate Hashtag Features"
   ]
  },
  {
   "cell_type": "code",
   "execution_count": 6,
   "id": "7a99f184",
   "metadata": {},
   "outputs": [],
   "source": [
    "datasets = {'qanda' : ['_per_post','_per_episode', '_per_user']}"
   ]
  },
  {
   "cell_type": "code",
   "execution_count": 8,
   "id": "192b1ac6",
   "metadata": {},
   "outputs": [],
   "source": [
    "def dummy_fun(doc):\n",
    "    return doc\n",
    "\n",
    "for dataset in datasets.keys():\n",
    "    for granularity in datasets[dataset]:\n",
    "        data_path = os.path.join(base_dir,'data','01_raw_data',dataset, dataset+granularity+'.pk')\n",
    "        with open(data_path, 'rb') as rf:\n",
    "            data = pk.load(rf)\n",
    "            data_hashtags = data['hashtags']\n",
    "            tfidf = TfidfVectorizer(\n",
    "                analyzer='word',\n",
    "                tokenizer=dummy_fun,\n",
    "                preprocessor=dummy_fun,\n",
    "                token_pattern=None,\n",
    "                min_df = 10)\n",
    "            ht_embeddings = tfidf.fit_transform(data_hashtags.apply(lambda l: [str(s) for s in l])).todense()\n",
    "            Path( os.path.join(base_dir,'data','03_processed','qanda','features') ).mkdir( parents=True, exist_ok=True )\n",
    "        with open(os.path.join(base_dir,'data','03_processed','qanda','features', dataset+'_ht_'+granularity+'.pk'), 'wb') as wf:\n",
    "            pk.dump(ht_embeddings, wf)"
   ]
  },
  {
   "cell_type": "markdown",
   "id": "de7a2334",
   "metadata": {},
   "source": [
    "### Generate Retweet Features"
   ]
  },
  {
   "cell_type": "code",
   "execution_count": 9,
   "id": "0632c4a3",
   "metadata": {},
   "outputs": [],
   "source": [
    "datasets = {'qanda' : ['_per_post','_per_episode', '_per_user'], 'ausvotes' : ['_per_post', '_per_user']}"
   ]
  },
  {
   "cell_type": "code",
   "execution_count": 11,
   "id": "2e15d93d",
   "metadata": {},
   "outputs": [
    {
     "name": "stderr",
     "output_type": "stream",
     "text": [
      "100%|██████████| 756640/756640 [00:56<00:00, 13497.60it/s]\n",
      "100%|██████████| 275032/275032 [00:26<00:00, 10441.32it/s]\n",
      "100%|██████████| 100114/100114 [00:16<00:00, 6167.31it/s]\n",
      "100%|██████████| 4922572/4922572 [06:10<00:00, 13292.74it/s]\n",
      "100%|██████████| 265350/265350 [01:24<00:00, 3131.49it/s]\n"
     ]
    }
   ],
   "source": [
    "for dataset in datasets.keys():\n",
    "    for granularity in datasets[dataset]:\n",
    "        data_path = os.path.join(base_dir,'data','01_raw_data',dataset, dataset+granularity+'.pk')\n",
    "        post_data_path = os.path.join(base_dir,'data','01_raw_data',dataset, dataset+'_per_post'+'.pk')\n",
    "        with open(data_path, 'rb') as rf, open(post_data_path, 'rb') as prf:\n",
    "            data = pk.load(rf)\n",
    "            post_level_data = pk.load(prf)\n",
    "            most_popular_threads = post_level_data['rid'].value_counts().iloc[0:1000].index.values\n",
    "            if granularity != 'per_post':\n",
    "                def to_bow(rids):\n",
    "                    res = np.zeros(1000)\n",
    "                    for i, thread in enumerate(most_popular_threads):\n",
    "                        if thread in rids:\n",
    "                            res[i] += 1\n",
    "                    return res\n",
    "\n",
    "                retweet_embeddings = data['rid'].progress_apply(to_bow) \n",
    "            else:\n",
    "                def to_bow(rid):\n",
    "                    res = np.zeros(1000)\n",
    "                    for i, thread in enumerate(most_popular_threads):\n",
    "                        if rid == thread:\n",
    "                            res[i] += 1\n",
    "                    return res\n",
    "\n",
    "                retweet_embeddings = data['rid'].progress_apply(to_bow)\n",
    "        rt_embeddings = np.vstack(retweet_embeddings.values)\n",
    "        \n",
    "        Path( os.path.join(base_dir,'data','03_processed',dataset,'features') ).mkdir( parents=True, exist_ok=True )\n",
    "        with open(os.path.join(base_dir,'data','03_processed',dataset,'features', dataset+'_rt_'+granularity+'.pk'), 'wb') as wf:\n",
    "            pk.dump(rt_embeddings, wf)"
   ]
  },
  {
   "cell_type": "markdown",
   "id": "112cbff2",
   "metadata": {},
   "source": [
    "### Generate Lexical USE Embeddings"
   ]
  },
  {
   "cell_type": "code",
   "execution_count": 12,
   "id": "ec728d31",
   "metadata": {},
   "outputs": [
    {
     "name": "stdout",
     "output_type": "stream",
     "text": [
      "module https://tfhub.dev/google/universal-sentence-encoder/4 loaded\n"
     ]
    }
   ],
   "source": [
    "module_url = \"https://tfhub.dev/google/universal-sentence-encoder/4\"\n",
    "model = hub.load(module_url)\n",
    "print (\"module %s loaded\" % module_url)\n",
    "def embed(input):\n",
    "    return model(input)\n",
    "\n",
    "def batched_embed(l_text):\n",
    "    all_embeddings = []\n",
    "    chunk_size = 10\n",
    "    for i in tqdm(range(0, len(l_text), chunk_size)):\n",
    "        chunk = l_text[i: min(i+chunk_size, len(l_text))]\n",
    "        emb = embed(chunk)\n",
    "        all_embeddings.append(emb.numpy())\n",
    "    return np.vstack(all_embeddings)"
   ]
  },
  {
   "cell_type": "code",
   "execution_count": 13,
   "id": "02fcf789",
   "metadata": {},
   "outputs": [],
   "source": [
    "datasets = {'qanda' : ['_per_post','_per_episode', '_per_user'], 'ausvotes' : ['_per_post', '_per_user'], 'socialsense' : ['_per_post', '_per_user']}"
   ]
  },
  {
   "cell_type": "code",
   "execution_count": 15,
   "id": "2f4dca99",
   "metadata": {},
   "outputs": [
    {
     "name": "stderr",
     "output_type": "stream",
     "text": [
      "100%|██████████| 75664/75664 [06:34<00:00, 192.01it/s]\n",
      "100%|██████████| 27504/27504 [02:55<00:00, 156.68it/s]\n",
      "100%|██████████| 10012/10012 [02:06<00:00, 79.22it/s]\n",
      " 79%|███████▉  | 389587/492258 [34:03<09:33, 178.89it/s]IOPub message rate exceeded.\n",
      "The notebook server will temporarily stop sending output\n",
      "to the client in order to avoid crashing it.\n",
      "To change this limit, set the config variable\n",
      "`--NotebookApp.iopub_msg_rate_limit`.\n",
      "\n",
      "Current values:\n",
      "NotebookApp.iopub_msg_rate_limit=1000.0 (msgs/sec)\n",
      "NotebookApp.rate_limit_window=3.0 (secs)\n",
      "\n",
      "100%|██████████| 26535/26535 [11:33<00:00, 38.26it/s]\n",
      "100%|██████████| 65499/65499 [07:15<00:00, 150.44it/s]\n",
      "100%|██████████| 4945/4945 [02:03<00:00, 40.11it/s]\n"
     ]
    }
   ],
   "source": [
    "for dataset in datasets.keys():\n",
    "    for granularity in datasets[dataset]:\n",
    "        data_path = os.path.join(base_dir,'data','01_raw_data',dataset, dataset+granularity+'.pk')\n",
    "        with open(data_path, 'rb') as rf:\n",
    "            data = pk.load(rf)\n",
    "            use_embeddings = batched_embed(list(data['text']))\n",
    "            Path( os.path.join(base_dir,'data','03_processed',dataset,'features') ).mkdir( parents=True, exist_ok=True )\n",
    "        with open(os.path.join(base_dir,'data','03_processed',dataset,'features', dataset+'_use_'+granularity+'.pk'), 'wb') as wf:\n",
    "            pk.dump(use_embeddings, wf)"
   ]
  }
 ],
 "metadata": {
  "kernelspec": {
   "display_name": "condaEnv",
   "language": "python",
   "name": "condaenv"
  },
  "language_info": {
   "codemirror_mode": {
    "name": "ipython",
    "version": 3
   },
   "file_extension": ".py",
   "mimetype": "text/x-python",
   "name": "python",
   "nbconvert_exporter": "python",
   "pygments_lexer": "ipython3",
   "version": "3.9.7"
  }
 },
 "nbformat": 4,
 "nbformat_minor": 5
}
